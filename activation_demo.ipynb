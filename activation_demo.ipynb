{
 "cells": [
  {
   "cell_type": "code",
   "execution_count": 1,
   "metadata": {
    "collapsed": true
   },
   "outputs": [],
   "source": [
    "import tensorflow as tf\n",
    "import numpy as np\n",
    "import matplotlib.pyplot as plt"
   ]
  },
  {
   "cell_type": "code",
   "execution_count": 13,
   "metadata": {
    "collapsed": true
   },
   "outputs": [],
   "source": [
    "# fake data\n",
    "x = np.linspace(-5, 5, 200)     # x data, shape=(100, 1)"
   ]
  },
  {
   "cell_type": "code",
   "execution_count": 14,
   "metadata": {
    "collapsed": false
   },
   "outputs": [],
   "source": [
    "# following are popular activation functions\n",
    "y_relu = tf.nn.relu(x)\n",
    "y_sigmoid = tf.nn.sigmoid(x)\n",
    "y_tanh = tf.nn.tanh(x)\n",
    "y_softplus = tf.nn.softplus(x)\n",
    "y_softmax = tf.nn.softmax(x)  #softmax is a special kind of activation function, it is about probability"
   ]
  },
  {
   "cell_type": "code",
   "execution_count": 15,
   "metadata": {
    "collapsed": false
   },
   "outputs": [
    {
     "data": {
      "text/plain": [
       "<tf.Tensor 'Relu_1:0' shape=(200,) dtype=float64>"
      ]
     },
     "execution_count": 15,
     "metadata": {},
     "output_type": "execute_result"
    }
   ],
   "source": [
    "y_relu"
   ]
  },
  {
   "cell_type": "code",
   "execution_count": 16,
   "metadata": {
    "collapsed": false
   },
   "outputs": [],
   "source": [
    "sess = tf.Session()\n",
    "y_relu, y_sigmoid, y_tanh, y_softplus,y_softmax = sess.run([y_relu, y_sigmoid, y_tanh, y_softplus, y_softmax])"
   ]
  },
  {
   "cell_type": "code",
   "execution_count": 17,
   "metadata": {
    "collapsed": false
   },
   "outputs": [
    {
     "data": {
      "text/plain": [
       "array([  2.22512610e-06,   2.33979857e-06,   2.46038072e-06,\n",
       "         2.58717710e-06,   2.72050796e-06,   2.86071007e-06,\n",
       "         3.00813753e-06,   3.16316270e-06,   3.32617714e-06,\n",
       "         3.49759257e-06,   3.67784194e-06,   3.86738051e-06,\n",
       "         4.06668700e-06,   4.27626481e-06,   4.49664326e-06,\n",
       "         4.72837897e-06,   4.97205725e-06,   5.22829355e-06,\n",
       "         5.49773506e-06,   5.78106231e-06,   6.07899091e-06,\n",
       "         6.39227334e-06,   6.72170086e-06,   7.06810551e-06,\n",
       "         7.43236222e-06,   7.81539100e-06,   8.21815927e-06,\n",
       "         8.64168431e-06,   9.08703583e-06,   9.55533866e-06,\n",
       "         1.00477756e-05,   1.05655904e-05,   1.11100909e-05,\n",
       "         1.16826525e-05,   1.22847211e-05,   1.29178175e-05,\n",
       "         1.35835407e-05,   1.42835721e-05,   1.50196798e-05,\n",
       "         1.57937230e-05,   1.66076568e-05,   1.74635368e-05,\n",
       "         1.83635248e-05,   1.93098940e-05,   2.03050346e-05,\n",
       "         2.13514600e-05,   2.24518132e-05,   2.36088734e-05,\n",
       "         2.48255630e-05,   2.61049551e-05,   2.74502809e-05,\n",
       "         2.88649385e-05,   3.03525009e-05,   3.19167251e-05,\n",
       "         3.35615621e-05,   3.52911662e-05,   3.71099059e-05,\n",
       "         3.90223749e-05,   4.10334034e-05,   4.31480708e-05,\n",
       "         4.53717182e-05,   4.77099619e-05,   5.01687076e-05,\n",
       "         5.27541654e-05,   5.54728654e-05,   5.83316744e-05,\n",
       "         6.13378129e-05,   6.44988735e-05,   6.78228402e-05,\n",
       "         7.13181085e-05,   7.49935063e-05,   7.88583168e-05,\n",
       "         8.29223013e-05,   8.71957243e-05,   9.16893793e-05,\n",
       "         9.64146161e-05,   1.01383369e-04,   1.06608188e-04,\n",
       "         1.12102270e-04,   1.17879490e-04,   1.23954441e-04,\n",
       "         1.30342467e-04,   1.37059701e-04,   1.44123109e-04,\n",
       "         1.51550532e-04,   1.59360730e-04,   1.67573427e-04,\n",
       "         1.76209369e-04,   1.85290366e-04,   1.94839355e-04,\n",
       "         2.04880453e-04,   2.15439022e-04,   2.26541730e-04,\n",
       "         2.38216619e-04,   2.50493176e-04,   2.63402409e-04,\n",
       "         2.76976923e-04,   2.91251003e-04,   3.06260701e-04,\n",
       "         3.22043928e-04,   3.38640549e-04,   3.56092480e-04,\n",
       "         3.74443801e-04,   3.93740863e-04,   4.14032404e-04,\n",
       "         4.35369675e-04,   4.57806568e-04,   4.81399752e-04,\n",
       "         5.06208817e-04,   5.32296424e-04,   5.59728463e-04,\n",
       "         5.88574219e-04,   6.18906550e-04,   6.50802065e-04,\n",
       "         6.84341323e-04,   7.19609037e-04,   7.56694282e-04,\n",
       "         7.95690724e-04,   8.36696859e-04,   8.79816256e-04,\n",
       "         9.25157822e-04,   9.72836079e-04,   1.02297145e-03,\n",
       "         1.07569055e-03,   1.13112656e-03,   1.18941947e-03,\n",
       "         1.25071652e-03,   1.31517253e-03,   1.38295030e-03,\n",
       "         1.45422101e-03,   1.52916468e-03,   1.60797059e-03,\n",
       "         1.69083779e-03,   1.77797557e-03,   1.86960401e-03,\n",
       "         1.96595456e-03,   2.06727055e-03,   2.17380789e-03,\n",
       "         2.28583567e-03,   2.40363682e-03,   2.52750889e-03,\n",
       "         2.65776474e-03,   2.79473335e-03,   2.93876069e-03,\n",
       "         3.09021051e-03,   3.24946533e-03,   3.41692740e-03,\n",
       "         3.59301967e-03,   3.77818690e-03,   3.97289677e-03,\n",
       "         4.17764108e-03,   4.39293693e-03,   4.61932811e-03,\n",
       "         4.85738642e-03,   5.10771313e-03,   5.37094050e-03,\n",
       "         5.64773336e-03,   5.93879081e-03,   6.24484798e-03,\n",
       "         6.56667790e-03,   6.90509341e-03,   7.26094924e-03,\n",
       "         7.63514421e-03,   8.02862341e-03,   8.44238067e-03,\n",
       "         8.87746102e-03,   9.33496336e-03,   9.81604320e-03,\n",
       "         1.03219156e-02,   1.08538583e-02,   1.14132148e-02,\n",
       "         1.20013979e-02,   1.26198931e-02,   1.32702627e-02,\n",
       "         1.39541493e-02,   1.46732801e-02,   1.54294715e-02,\n",
       "         1.62246335e-02,   1.70607743e-02,   1.79400059e-02,\n",
       "         1.88645489e-02,   1.98367385e-02,   2.08590301e-02,\n",
       "         2.19340058e-02,   2.30643807e-02,   2.42530097e-02,\n",
       "         2.55028951e-02,   2.68171936e-02,   2.81992248e-02,\n",
       "         2.96524795e-02,   3.11806279e-02,   3.27875300e-02,\n",
       "         3.44772441e-02,   3.62540381e-02,   3.81223997e-02,\n",
       "         4.00870478e-02,   4.21529445e-02,   4.43253078e-02,\n",
       "         4.66096244e-02,   4.90116639e-02])"
      ]
     },
     "execution_count": 17,
     "metadata": {},
     "output_type": "execute_result"
    }
   ],
   "source": [
    "y_softmax"
   ]
  },
  {
   "cell_type": "code",
   "execution_count": 19,
   "metadata": {
    "collapsed": false
   },
   "outputs": [
    {
     "data": {
      "image/png": "[encoded data removed]",
      "text/plain": [
       "<matplotlib.figure.Figure at 0xcf77080>"
      ]
     },
     "metadata": {},
     "output_type": "display_data"
    }
   ],
   "source": [
    "# plt to visualize these activation function\n",
    "plt.figure(1, figsize=(8, 6))\n",
    "plt.subplot(221)\n",
    "plt.plot(x, y_relu, c='red', label='relu')\n",
    "plt.ylim((-1, 5))\n",
    "plt.legend(loc='best')\n",
    "\n",
    "plt.subplot(222)\n",
    "plt.plot(x, y_sigmoid, c='red', label='sigmoid')\n",
    "plt.ylim((-0.2, 1.2))\n",
    "plt.legend(loc='best')\n",
    "\n",
    "plt.subplot(223)\n",
    "plt.plot(x, y_tanh, c='red', label='tanh')\n",
    "plt.ylim((-1.2, 1.2))\n",
    "plt.legend(loc='best')\n",
    "\n",
    "plt.subplot(224)\n",
    "plt.plot(x, y_softplus, c='red', label='softplus')\n",
    "plt.ylim((-0.2, 6))\n",
    "plt.legend(loc='best')\n",
    "\n",
    "plt.show()"
   ]
  },
  {
   "cell_type": "code",
   "execution_count": null,
   "metadata": {
    "collapsed": true
   },
   "outputs": [],
   "source": []
  }
 ],
 "metadata": {
  "kernelspec": {
   "display_name": "Python 3",
   "language": "python",
   "name": "python3"
  },
  "language_info": {
   "codemirror_mode": {
    "name": "ipython",
    "version": 3
   },
   "file_extension": ".py",
   "mimetype": "text/x-python",
   "name": "python",
   "nbconvert_exporter": "python",
   "pygments_lexer": "ipython3",
   "version": "3.6.0"
  }
 },
 "nbformat": 4,
 "nbformat_minor": 2
}
