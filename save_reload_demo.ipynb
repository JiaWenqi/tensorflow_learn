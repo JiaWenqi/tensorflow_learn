{
 "cells": [
  {
   "cell_type": "code",
   "execution_count": 1,
   "metadata": {
    "collapsed": true
   },
   "outputs": [],
   "source": [
    "import tensorflow as tf\n",
    "import matplotlib.pyplot as plt\n",
    "import numpy as np"
   ]
  },
  {
   "cell_type": "code",
   "execution_count": 2,
   "metadata": {
    "collapsed": true
   },
   "outputs": [],
   "source": [
    "tf.set_random_seed(1)\n",
    "np.random.seed(1)\n",
    "\n",
    "# fake data\n",
    "x = np.linspace(-1, 1, 100)[:, np.newaxis]          # shape (100, 1)\n",
    "noise = np.random.normal(0, 0.1, size=x.shape)\n",
    "y = np.power(x, 2) + noise                          # shape (100, 1) + some noise"
   ]
  },
  {
   "cell_type": "code",
   "execution_count": 9,
   "metadata": {
    "collapsed": false
   },
   "outputs": [
    {
     "name": "stdout",
     "output_type": "stream",
     "text": [
      "(100, 1)\n",
      "[[ 1.16243454]\n",
      " [ 0.89882844]\n",
      " [ 0.86800723]\n",
      " [ 0.77516411]\n",
      " [ 0.93145455]\n",
      " [ 0.57802897]\n",
      " [ 0.94674931]\n",
      " [ 0.66104899]\n",
      " [ 0.73479137]\n",
      " [ 0.64448445]\n",
      " [ 0.78298255]\n",
      " [ 0.3989242 ]\n",
      " [ 0.54167931]\n",
      " [ 0.50531459]\n",
      " [ 0.62771222]\n",
      " [ 0.37577763]\n",
      " [ 0.44077167]\n",
      " [ 0.34329262]\n",
      " [ 0.40918005]\n",
      " [ 0.43793666]\n",
      " [ 0.24510592]\n",
      " [ 0.44596916]\n",
      " [ 0.39880105]\n",
      " [ 0.33685284]\n",
      " [ 0.35546668]\n",
      " [ 0.17660222]\n",
      " [ 0.21309614]\n",
      " [ 0.11303463]\n",
      " [ 0.16186541]\n",
      " [ 0.22454866]\n",
      " [ 0.08602217]\n",
      " [ 0.10000427]\n",
      " [ 0.05626998]\n",
      " [ 0.02659055]\n",
      " [ 0.03092661]\n",
      " [ 0.08454111]\n",
      " [-0.03735087]\n",
      " [ 0.08721057]\n",
      " [ 0.2199543 ]\n",
      " [ 0.11919982]\n",
      " [ 0.01764942]\n",
      " [-0.05927611]\n",
      " [-0.05175899]\n",
      " [ 0.1864886 ]\n",
      " [ 0.01742645]\n",
      " [-0.0554351 ]\n",
      " [ 0.02409104]\n",
      " [ 0.21257627]\n",
      " [ 0.01293417]\n",
      " [ 0.06182234]\n",
      " [ 0.03011906]\n",
      " [-0.03430671]\n",
      " [-0.11170106]\n",
      " [-0.02993478]\n",
      " [-0.01262496]\n",
      " [ 0.071008  ]\n",
      " [ 0.10114148]\n",
      " [ 0.11606705]\n",
      " [ 0.05804552]\n",
      " [ 0.12534709]\n",
      " [-0.03044439]\n",
      " [ 0.1792609 ]\n",
      " [ 0.11506199]\n",
      " [ 0.04457088]\n",
      " [ 0.13465939]\n",
      " [ 0.09049405]\n",
      " [ 0.22427405]\n",
      " [ 0.27696893]\n",
      " [ 0.35823717]\n",
      " [ 0.01553861]\n",
      " [ 0.02710173]\n",
      " [ 0.13820763]\n",
      " [ 0.22261528]\n",
      " [ 0.31300206]\n",
      " [ 0.2765385 ]\n",
      " [ 0.06316096]\n",
      " [ 0.25598301]\n",
      " [ 0.39143944]\n",
      " [ 0.35450626]\n",
      " [ 0.43136896]\n",
      " [ 0.35742232]\n",
      " [ 0.38488287]\n",
      " [ 0.4497346 ]\n",
      " [ 0.49901965]\n",
      " [ 0.50559673]\n",
      " [ 0.52623614]\n",
      " [ 0.4766538 ]\n",
      " [ 0.61167741]\n",
      " [ 0.6171204 ]\n",
      " [ 0.74972015]\n",
      " [ 0.78931328]\n",
      " [ 0.7214031 ]\n",
      " [ 0.69964118]\n",
      " [ 0.7083951 ]\n",
      " [ 0.85053227]\n",
      " [ 0.85264779]\n",
      " [ 0.84807561]\n",
      " [ 0.92518409]\n",
      " [ 0.898004  ]\n",
      " [ 1.0698032 ]]\n"
     ]
    }
   ],
   "source": [
    "print(x.shape)\n",
    "print(y)"
   ]
  },
  {
   "cell_type": "code",
   "execution_count": 10,
   "metadata": {
    "collapsed": true
   },
   "outputs": [],
   "source": [
    "def save():\n",
    "    print('This is save')\n",
    "    # build neural network\n",
    "    tf_x = tf.placeholder(tf.float32, x.shape)  # input x\n",
    "    tf_y = tf.placeholder(tf.float32, y.shape)  # input y\n",
    "    l = tf.layers.dense(tf_x, 10, tf.nn.relu)          # hidden layer\n",
    "    o = tf.layers.dense(l, 1)                     # output layer\n",
    "    loss = tf.losses.mean_squared_error(tf_y, o)   # compute cost\n",
    "    train_op = tf.train.GradientDescentOptimizer(learning_rate=0.5).minimize(loss)\n",
    "\n",
    "    sess = tf.Session()\n",
    "    sess.run(tf.global_variables_initializer())  # initialize var in graph\n",
    "\n",
    "    saver = tf.train.Saver()  # define a saver for saving and restoring\n",
    "\n",
    "    for step in range(100):                             # train\n",
    "        sess.run(train_op, {tf_x: x, tf_y: y})\n",
    "\n",
    "    saver.save(sess, './params', write_meta_graph=False)  # meta_graph is not recommended\n",
    "\n",
    "    # plotting\n",
    "    pred, l = sess.run([o, loss], {tf_x: x, tf_y: y})\n",
    "    plt.figure(1, figsize=(10, 5))\n",
    "    plt.subplot(121)\n",
    "    plt.scatter(x, y)\n",
    "    plt.plot(x, pred, 'r-', lw=5)\n",
    "    plt.text(-1, 1.2, 'Save Loss=%.4f' % l, fontdict={'size': 15, 'color': 'red'})\n"
   ]
  },
  {
   "cell_type": "code",
   "execution_count": 11,
   "metadata": {
    "collapsed": true
   },
   "outputs": [],
   "source": [
    "def reload():\n",
    "    print('This is reload')\n",
    "    # build entire net again and restore\n",
    "    tf_x = tf.placeholder(tf.float32, x.shape)  # input x\n",
    "    tf_y = tf.placeholder(tf.float32, y.shape)  # input y\n",
    "    l_ = tf.layers.dense(tf_x, 10, tf.nn.relu)          # hidden layer\n",
    "    o_ = tf.layers.dense(l_, 1)                     # output layer\n",
    "    loss_ = tf.losses.mean_squared_error(tf_y, o_)   # compute cost\n",
    "\n",
    "    sess = tf.Session()\n",
    "    # don't need to initialize variables, just restoring trained variables\n",
    "    saver = tf.train.Saver()  # define a saver for saving and restoring\n",
    "    saver.restore(sess, './params')\n",
    "\n",
    "    # plotting\n",
    "    pred, l = sess.run([o_, loss_], {tf_x: x, tf_y: y})\n",
    "    plt.subplot(122)\n",
    "    plt.scatter(x, y)\n",
    "    plt.plot(x, pred, 'r-', lw=5)\n",
    "    plt.text(-1, 1.2, 'Reload Loss=%.4f' % l, fontdict={'size': 15, 'color': 'red'})\n",
    "    plt.show()"
   ]
  },
  {
   "cell_type": "code",
   "execution_count": 12,
   "metadata": {
    "collapsed": false,
    "scrolled": true
   },
   "outputs": [
    {
     "name": "stdout",
     "output_type": "stream",
     "text": [
      "This is save\n",
      "This is reload\n",
      "INFO:tensorflow:Restoring parameters from ./params\n"
     ]
    },
    {
     "data": {
      "image/png": "[encoded data removed]",
      "text/plain": [
       "<matplotlib.figure.Figure at 0x67b6ac8>"
      ]
     },
     "metadata": {},
     "output_type": "display_data"
    }
   ],
   "source": [
    "save()\n",
    "\n",
    "# destroy previous net\n",
    "tf.reset_default_graph()\n",
    "\n",
    "reload()"
   ]
  }
 ],
 "metadata": {
  "kernelspec": {
   "display_name": "Python 3",
   "language": "python",
   "name": "python3"
  },
  "language_info": {
   "codemirror_mode": {
    "name": "ipython",
    "version": 3
   },
   "file_extension": ".py",
   "mimetype": "text/x-python",
   "name": "python",
   "nbconvert_exporter": "python",
   "pygments_lexer": "ipython3",
   "version": "3.6.0"
  }
 },
 "nbformat": 4,
 "nbformat_minor": 2
}
