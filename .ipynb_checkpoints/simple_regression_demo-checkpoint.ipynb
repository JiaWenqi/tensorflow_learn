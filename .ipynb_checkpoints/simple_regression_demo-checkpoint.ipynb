{
 "cells": [
  {
   "cell_type": "code",
   "execution_count": 1,
   "metadata": {
    "collapsed": true
   },
   "outputs": [],
   "source": [
    "import tensorflow as tf\n",
    "import matplotlib.pyplot as plt\n",
    "import numpy as np"
   ]
  },
  {
   "cell_type": "code",
   "execution_count": 3,
   "metadata": {
    "collapsed": true
   },
   "outputs": [],
   "source": [
    "tf.set_random_seed(1)\n",
    "np.random.seed(1)\n",
    "# fake data\n",
    "x = np.linspace(-1, 1, 100)[:, np.newaxis]          # shape (100, 1)\n",
    "noise = np.random.normal(0, 0.1, size=x.shape)\n",
    "y = np.power(x, 2) + noise                          # shape (100, 1) + some noise"
   ]
  },
  {
   "cell_type": "code",
   "execution_count": 4,
   "metadata": {
    "collapsed": false
   },
   "outputs": [
    {
     "data": {
      "image/png": "[encoded data removed]",
      "text/plain": [
       "<matplotlib.figure.Figure at 0xbbcb5f8>"
      ]
     },
     "metadata": {},
     "output_type": "display_data"
    }
   ],
   "source": [
    "# plot data\n",
    "plt.scatter(x, y)\n",
    "plt.show()"
   ]
  },
  {
   "cell_type": "code",
   "execution_count": 5,
   "metadata": {
    "collapsed": true
   },
   "outputs": [],
   "source": [
    "tf_x = tf.placeholder(tf.float32, x.shape)     # input x\n",
    "tf_y = tf.placeholder(tf.float32, y.shape)     # input y"
   ]
  },
  {
   "cell_type": "code",
   "execution_count": 6,
   "metadata": {
    "collapsed": true
   },
   "outputs": [],
   "source": [
    "# neural network layers\n",
    "l1 = tf.layers.dense(tf_x, 10, tf.nn.relu)          # hidden layer\n",
    "output = tf.layers.dense(l1, 1)                     # output layer"
   ]
  },
  {
   "cell_type": "code",
   "execution_count": 7,
   "metadata": {
    "collapsed": true
   },
   "outputs": [],
   "source": [
    "loss = tf.losses.mean_squared_error(tf_y, output)   # compute cost\n",
    "optimizer = tf.train.GradientDescentOptimizer(learning_rate=0.5)\n",
    "train_op = optimizer.minimize(loss)"
   ]
  },
  {
   "cell_type": "code",
   "execution_count": 8,
   "metadata": {
    "collapsed": true
   },
   "outputs": [],
   "source": [
    "sess = tf.Session()                                 # control training and others\n",
    "sess.run(tf.global_variables_initializer())         # initialize var in graph"
   ]
  },
  {
   "cell_type": "code",
   "execution_count": 12,
   "metadata": {
    "collapsed": false
   },
   "outputs": [
    {
     "data": {
      "image/png": "[encoded data removed]",
      "text/plain": [
       "<matplotlib.figure.Figure at 0x636f1d0>"
      ]
     },
     "metadata": {},
     "output_type": "display_data"
    }
   ],
   "source": [
    "plt.ion()   # something about plotting\n",
    "\n",
    "for step in range(1000):\n",
    "    # train and net output\n",
    "    _, l, pred = sess.run([train_op, loss, output], {tf_x: x, tf_y: y})\n",
    "    if step % 5 == 0:\n",
    "        # plot and show learning process\n",
    "        plt.cla()\n",
    "        plt.scatter(x, y)\n",
    "        plt.plot(x, pred, 'r-', lw=5)\n",
    "        plt.text(0.5, 0, 'Loss=%.4f' % l, fontdict={'size': 20, 'color': 'red'})\n",
    "        plt.pause(0.1)\n",
    "\n",
    "plt.ioff()\n",
    "plt.show()"
   ]
  },
  {
   "cell_type": "code",
   "execution_count": 13,
   "metadata": {
    "collapsed": false
   },
   "outputs": [
    {
     "data": {
      "text/plain": [
       "array([[ 0.98524773],\n",
       "       [ 0.95618939],\n",
       "       [ 0.92713106],\n",
       "       [ 0.89807272],\n",
       "       [ 0.86901426],\n",
       "       [ 0.83995593],\n",
       "       [ 0.81089759],\n",
       "       [ 0.78183925],\n",
       "       [ 0.75278091],\n",
       "       [ 0.72372258],\n",
       "       [ 0.69466412],\n",
       "       [ 0.66560578],\n",
       "       [ 0.63654745],\n",
       "       [ 0.60748911],\n",
       "       [ 0.57843083],\n",
       "       [ 0.54937243],\n",
       "       [ 0.5203141 ],\n",
       "       [ 0.49125573],\n",
       "       [ 0.46219736],\n",
       "       [ 0.43313909],\n",
       "       [ 0.40408066],\n",
       "       [ 0.37502235],\n",
       "       [ 0.34596401],\n",
       "       [ 0.31690562],\n",
       "       [ 0.28784725],\n",
       "       [ 0.25878894],\n",
       "       [ 0.22973061],\n",
       "       [ 0.2066339 ],\n",
       "       [ 0.18647709],\n",
       "       [ 0.16632029],\n",
       "       [ 0.14616354],\n",
       "       [ 0.12600671],\n",
       "       [ 0.10584996],\n",
       "       [ 0.08569318],\n",
       "       [ 0.07364386],\n",
       "       [ 0.07338579],\n",
       "       [ 0.0731277 ],\n",
       "       [ 0.0728696 ],\n",
       "       [ 0.07261153],\n",
       "       [ 0.07235344],\n",
       "       [ 0.07209536],\n",
       "       [ 0.07183728],\n",
       "       [ 0.07157919],\n",
       "       [ 0.0713211 ],\n",
       "       [ 0.07106301],\n",
       "       [ 0.07080494],\n",
       "       [ 0.07054685],\n",
       "       [ 0.07028875],\n",
       "       [ 0.07003067],\n",
       "       [ 0.06977259],\n",
       "       [ 0.06951453],\n",
       "       [ 0.06925642],\n",
       "       [ 0.07110314],\n",
       "       [ 0.07559355],\n",
       "       [ 0.08008395],\n",
       "       [ 0.08457436],\n",
       "       [ 0.08906476],\n",
       "       [ 0.09355515],\n",
       "       [ 0.09804557],\n",
       "       [ 0.10253598],\n",
       "       [ 0.10702637],\n",
       "       [ 0.11151677],\n",
       "       [ 0.11600717],\n",
       "       [ 0.12049758],\n",
       "       [ 0.12498799],\n",
       "       [ 0.12947839],\n",
       "       [ 0.1339688 ],\n",
       "       [ 0.13828698],\n",
       "       [ 0.14123109],\n",
       "       [ 0.14417522],\n",
       "       [ 0.14711934],\n",
       "       [ 0.16481793],\n",
       "       [ 0.19419199],\n",
       "       [ 0.22356603],\n",
       "       [ 0.25294006],\n",
       "       [ 0.28231409],\n",
       "       [ 0.31168813],\n",
       "       [ 0.34106225],\n",
       "       [ 0.37043619],\n",
       "       [ 0.39981031],\n",
       "       [ 0.42918438],\n",
       "       [ 0.45855838],\n",
       "       [ 0.48793241],\n",
       "       [ 0.51730633],\n",
       "       [ 0.54668045],\n",
       "       [ 0.57605457],\n",
       "       [ 0.60542858],\n",
       "       [ 0.63480258],\n",
       "       [ 0.6641767 ],\n",
       "       [ 0.69355065],\n",
       "       [ 0.72292477],\n",
       "       [ 0.75229883],\n",
       "       [ 0.78167284],\n",
       "       [ 0.81104696],\n",
       "       [ 0.84042096],\n",
       "       [ 0.86979496],\n",
       "       [ 0.89916909],\n",
       "       [ 0.92854309],\n",
       "       [ 0.95717359],\n",
       "       [ 0.9836036 ]], dtype=float32)"
      ]
     },
     "execution_count": 13,
     "metadata": {},
     "output_type": "execute_result"
    }
   ],
   "source": [
    "pred"
   ]
  }
 ],
 "metadata": {
  "kernelspec": {
   "display_name": "Python 3",
   "language": "python",
   "name": "python3"
  },
  "language_info": {
   "codemirror_mode": {
    "name": "ipython",
    "version": 3
   },
   "file_extension": ".py",
   "mimetype": "text/x-python",
   "name": "python",
   "nbconvert_exporter": "python",
   "pygments_lexer": "ipython3",
   "version": "3.6.0"
  }
 },
 "nbformat": 4,
 "nbformat_minor": 2
}
